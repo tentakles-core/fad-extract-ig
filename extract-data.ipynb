{
 "cells": [
  {
   "cell_type": "code",
   "execution_count": null,
   "metadata": {},
   "outputs": [],
   "source": [
    "import requests\n",
    "import re\n",
    "import json"
   ]
  },
  {
   "cell_type": "code",
   "execution_count": null,
   "metadata": {},
   "outputs": [],
   "source": [
    "url = \"https://www.instagram.com/\" + \"<username>\"\n",
    "\n",
    "result = requests.get(url)"
   ]
  },
  {
   "cell_type": "code",
   "execution_count": null,
   "metadata": {},
   "outputs": [],
   "source": [
    "pattern = '<script type=\"text\\/javascript\">window._sharedData(.*?);<\\/script>'"
   ]
  },
  {
   "cell_type": "code",
   "execution_count": null,
   "metadata": {},
   "outputs": [],
   "source": [
    "x = re.findall(pattern, result.text)[0].lstrip(' = ')"
   ]
  },
  {
   "cell_type": "code",
   "execution_count": null,
   "metadata": {},
   "outputs": [],
   "source": [
    "y = json.loads(x)"
   ]
  },
  {
   "cell_type": "code",
   "execution_count": null,
   "metadata": {},
   "outputs": [],
   "source": [
    "user_data = y['entry_data']['ProfilePage'][0]['graphql']['user']"
   ]
  },
  {
   "cell_type": "code",
   "execution_count": null,
   "metadata": {},
   "outputs": [],
   "source": [
    "user_data"
   ]
  },
  {
   "cell_type": "code",
   "execution_count": null,
   "metadata": {},
   "outputs": [],
   "source": [
    "[\n",
    "    user_data['edge_follow']['count'],  # userFollowerCount\n",
    "    user_data['edge_followed_by']['count'],    # userFollowingCount\n",
    "    len(user_data['biography']), # userBiographyLength\n",
    "    user_data['edge_owner_to_timeline_media']['count'], # userMediaCount\n",
    "    1 if user_data['profile_pic_url'].find('cdninstagram') != -1 else 0, # userHasProfilPic\n",
    "    1 if user_data['is_private'] else 0,  # userIsPrivate\n",
    "    sum(c.isdigit() for c in user_data['username'] ), # usernameDigitCount\n",
    "    len(user_data['username']), # usernameLength\n",
    "]"
   ]
  }
 ],
 "metadata": {
  "kernelspec": {
   "display_name": "Python 3",
   "language": "python",
   "name": "python3"
  },
  "language_info": {
   "codemirror_mode": {
    "name": "ipython",
    "version": 3
   },
   "file_extension": ".py",
   "mimetype": "text/x-python",
   "name": "python",
   "nbconvert_exporter": "python",
   "pygments_lexer": "ipython3",
   "version": "3.7.6"
  }
 },
 "nbformat": 4,
 "nbformat_minor": 4
}
